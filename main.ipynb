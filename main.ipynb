{
 "cells": [
  {
   "cell_type": "code",
   "execution_count": 22,
   "metadata": {},
   "outputs": [],
   "source": [
    "from customtwitter import APIX\n",
    "# import app\n",
    "import pandas as pd\n",
    "import json\n",
    "import re\n",
    "from transformers import AutoModelForSequenceClassification\n",
    "from transformers import TFAutoModelForSequenceClassification\n",
    "from transformers import AutoTokenizer, AutoConfig\n",
    "import numpy as np\n",
    "from scipy.special import softmax\n",
    "import pretty_errors"
   ]
  },
  {
   "cell_type": "code",
   "execution_count": 25,
   "metadata": {},
   "outputs": [],
   "source": [
    "if __name__ == '__main__':\n",
    "    APIkey = \"05f9eec068mshcb0f7471140a0a8p1ca951jsn9d87189f621b\"\n",
    "    \n",
    "    inst = APIX(key = APIkey)\n",
    "\n",
    "    obj = inst.searchTweet(\"BTC\", search_type = \"top\",cursor=\"DAACCgACGKygYwgAJxAKAAMYrKBjB__Y8AgABAAAAAILAAUAAADQRW1QQzZ3QUFBZlEvZ0dKTjB2R3AvQUFBQUJFWXJKdEhLZGNBbnhpc1VtOXpGNkM0R0t5Y3ZzK1hrWWtZckpOS1Q5cUJweGlzaHAxSlY1R0dHS3llK2trWElNUVlySmZxejFlQXlSaXNtbTZyMW1EaUdLeUl1bnpXZ1VZWXJKSFlROWRoYmhpc25nK24xcUhNR0t4SDV1b1dJTDBZckpDSzZaYkJPaGlzZ0kwejJ1SDhHS3lGVmk0V0lFZ1lySjMxWWhjUUhCaXNrZTB0MTNINAgABgAAAAAIAAcAAAAADAAICgABGKxH5uoWIL0AAAA\")\n",
    "\n",
    "    # print(json.dumps(obj, indent = 4))\n",
    "    # with open(\"latest_tweet_replies.txt\", \"w+\") as f:\n",
    "    #     f.write(json.dumps(obj, indent = 4))\n",
    "    json_string = json.dumps(obj)"
   ]
  },
  {
   "cell_type": "code",
   "execution_count": 26,
   "metadata": {},
   "outputs": [],
   "source": [
    "df = pd.read_json(json_string)"
   ]
  },
  {
   "cell_type": "code",
   "execution_count": 28,
   "metadata": {},
   "outputs": [
    {
     "data": {
      "text/html": [
       "<div>\n",
       "<style scoped>\n",
       "    .dataframe tbody tr th:only-of-type {\n",
       "        vertical-align: middle;\n",
       "    }\n",
       "\n",
       "    .dataframe tbody tr th {\n",
       "        vertical-align: top;\n",
       "    }\n",
       "\n",
       "    .dataframe thead th {\n",
       "        text-align: right;\n",
       "    }\n",
       "</style>\n",
       "<table border=\"1\" class=\"dataframe\">\n",
       "  <thead>\n",
       "    <tr style=\"text-align: right;\">\n",
       "      <th></th>\n",
       "      <th>timeline</th>\n",
       "      <th>next_cursor</th>\n",
       "    </tr>\n",
       "  </thead>\n",
       "  <tbody>\n",
       "    <tr>\n",
       "      <th>0</th>\n",
       "      <td>{'type': 'tweet', 'tweet_id': '177797842996872...</td>\n",
       "      <td>DAACCgACGKygYwgAJxAKAAMYrKBjB_-x4AgABAAAAAILAA...</td>\n",
       "    </tr>\n",
       "    <tr>\n",
       "      <th>1</th>\n",
       "      <td>{'type': 'tweet', 'tweet_id': '177797457020650...</td>\n",
       "      <td>DAACCgACGKygYwgAJxAKAAMYrKBjB_-x4AgABAAAAAILAA...</td>\n",
       "    </tr>\n",
       "    <tr>\n",
       "      <th>2</th>\n",
       "      <td>{'type': 'tweet', 'tweet_id': '177797724280033...</td>\n",
       "      <td>DAACCgACGKygYwgAJxAKAAMYrKBjB_-x4AgABAAAAAILAA...</td>\n",
       "    </tr>\n",
       "    <tr>\n",
       "      <th>3</th>\n",
       "      <td>{'type': 'tweet', 'tweet_id': '177797904541986...</td>\n",
       "      <td>DAACCgACGKygYwgAJxAKAAMYrKBjB_-x4AgABAAAAAILAA...</td>\n",
       "    </tr>\n",
       "    <tr>\n",
       "      <th>4</th>\n",
       "      <td>{'type': 'tweet', 'tweet_id': '177797399697127...</td>\n",
       "      <td>DAACCgACGKygYwgAJxAKAAMYrKBjB_-x4AgABAAAAAILAA...</td>\n",
       "    </tr>\n",
       "    <tr>\n",
       "      <th>5</th>\n",
       "      <td>{'type': 'tweet', 'tweet_id': '177796969668120...</td>\n",
       "      <td>DAACCgACGKygYwgAJxAKAAMYrKBjB_-x4AgABAAAAAILAA...</td>\n",
       "    </tr>\n",
       "    <tr>\n",
       "      <th>6</th>\n",
       "      <td>{'type': 'tweet', 'tweet_id': '177785303384341...</td>\n",
       "      <td>DAACCgACGKygYwgAJxAKAAMYrKBjB_-x4AgABAAAAAILAA...</td>\n",
       "    </tr>\n",
       "    <tr>\n",
       "      <th>7</th>\n",
       "      <td>{'type': 'tweet', 'tweet_id': '177794258700717...</td>\n",
       "      <td>DAACCgACGKygYwgAJxAKAAMYrKBjB_-x4AgABAAAAAILAA...</td>\n",
       "    </tr>\n",
       "    <tr>\n",
       "      <th>8</th>\n",
       "      <td>{'type': 'tweet', 'tweet_id': '177797891572364...</td>\n",
       "      <td>DAACCgACGKygYwgAJxAKAAMYrKBjB_-x4AgABAAAAAILAA...</td>\n",
       "    </tr>\n",
       "    <tr>\n",
       "      <th>9</th>\n",
       "      <td>{'type': 'tweet', 'tweet_id': '177797685355235...</td>\n",
       "      <td>DAACCgACGKygYwgAJxAKAAMYrKBjB_-x4AgABAAAAAILAA...</td>\n",
       "    </tr>\n",
       "    <tr>\n",
       "      <th>10</th>\n",
       "      <td>{'type': 'tweet', 'tweet_id': '177788145229591...</td>\n",
       "      <td>DAACCgACGKygYwgAJxAKAAMYrKBjB_-x4AgABAAAAAILAA...</td>\n",
       "    </tr>\n",
       "    <tr>\n",
       "      <th>11</th>\n",
       "      <td>{'type': 'tweet', 'tweet_id': '177792064308791...</td>\n",
       "      <td>DAACCgACGKygYwgAJxAKAAMYrKBjB_-x4AgABAAAAAILAA...</td>\n",
       "    </tr>\n",
       "    <tr>\n",
       "      <th>12</th>\n",
       "      <td>{'type': 'tweet', 'tweet_id': '177792488403682...</td>\n",
       "      <td>DAACCgACGKygYwgAJxAKAAMYrKBjB_-x4AgABAAAAAILAA...</td>\n",
       "    </tr>\n",
       "    <tr>\n",
       "      <th>13</th>\n",
       "      <td>{'type': 'tweet', 'tweet_id': '177791891724949...</td>\n",
       "      <td>DAACCgACGKygYwgAJxAKAAMYrKBjB_-x4AgABAAAAAILAA...</td>\n",
       "    </tr>\n",
       "    <tr>\n",
       "      <th>14</th>\n",
       "      <td>{'type': 'tweet', 'tweet_id': '177792926636300...</td>\n",
       "      <td>DAACCgACGKygYwgAJxAKAAMYrKBjB_-x4AgABAAAAAILAA...</td>\n",
       "    </tr>\n",
       "    <tr>\n",
       "      <th>15</th>\n",
       "      <td>{'type': 'tweet', 'tweet_id': '177792430875044...</td>\n",
       "      <td>DAACCgACGKygYwgAJxAKAAMYrKBjB_-x4AgABAAAAAILAA...</td>\n",
       "    </tr>\n",
       "    <tr>\n",
       "      <th>16</th>\n",
       "      <td>{'type': 'tweet', 'tweet_id': '177791690397079...</td>\n",
       "      <td>DAACCgACGKygYwgAJxAKAAMYrKBjB_-x4AgABAAAAAILAA...</td>\n",
       "    </tr>\n",
       "    <tr>\n",
       "      <th>17</th>\n",
       "      <td>{'type': 'tweet', 'tweet_id': '177794874987817...</td>\n",
       "      <td>DAACCgACGKygYwgAJxAKAAMYrKBjB_-x4AgABAAAAAILAA...</td>\n",
       "    </tr>\n",
       "    <tr>\n",
       "      <th>18</th>\n",
       "      <td>{'type': 'tweet', 'tweet_id': '177796842904920...</td>\n",
       "      <td>DAACCgACGKygYwgAJxAKAAMYrKBjB_-x4AgABAAAAAILAA...</td>\n",
       "    </tr>\n",
       "    <tr>\n",
       "      <th>19</th>\n",
       "      <td>{'type': 'tweet', 'tweet_id': '177796469374055...</td>\n",
       "      <td>DAACCgACGKygYwgAJxAKAAMYrKBjB_-x4AgABAAAAAILAA...</td>\n",
       "    </tr>\n",
       "  </tbody>\n",
       "</table>\n",
       "</div>"
      ],
      "text/plain": [
       "                                             timeline  \\\n",
       "0   {'type': 'tweet', 'tweet_id': '177797842996872...   \n",
       "1   {'type': 'tweet', 'tweet_id': '177797457020650...   \n",
       "2   {'type': 'tweet', 'tweet_id': '177797724280033...   \n",
       "3   {'type': 'tweet', 'tweet_id': '177797904541986...   \n",
       "4   {'type': 'tweet', 'tweet_id': '177797399697127...   \n",
       "5   {'type': 'tweet', 'tweet_id': '177796969668120...   \n",
       "6   {'type': 'tweet', 'tweet_id': '177785303384341...   \n",
       "7   {'type': 'tweet', 'tweet_id': '177794258700717...   \n",
       "8   {'type': 'tweet', 'tweet_id': '177797891572364...   \n",
       "9   {'type': 'tweet', 'tweet_id': '177797685355235...   \n",
       "10  {'type': 'tweet', 'tweet_id': '177788145229591...   \n",
       "11  {'type': 'tweet', 'tweet_id': '177792064308791...   \n",
       "12  {'type': 'tweet', 'tweet_id': '177792488403682...   \n",
       "13  {'type': 'tweet', 'tweet_id': '177791891724949...   \n",
       "14  {'type': 'tweet', 'tweet_id': '177792926636300...   \n",
       "15  {'type': 'tweet', 'tweet_id': '177792430875044...   \n",
       "16  {'type': 'tweet', 'tweet_id': '177791690397079...   \n",
       "17  {'type': 'tweet', 'tweet_id': '177794874987817...   \n",
       "18  {'type': 'tweet', 'tweet_id': '177796842904920...   \n",
       "19  {'type': 'tweet', 'tweet_id': '177796469374055...   \n",
       "\n",
       "                                          next_cursor  \n",
       "0   DAACCgACGKygYwgAJxAKAAMYrKBjB_-x4AgABAAAAAILAA...  \n",
       "1   DAACCgACGKygYwgAJxAKAAMYrKBjB_-x4AgABAAAAAILAA...  \n",
       "2   DAACCgACGKygYwgAJxAKAAMYrKBjB_-x4AgABAAAAAILAA...  \n",
       "3   DAACCgACGKygYwgAJxAKAAMYrKBjB_-x4AgABAAAAAILAA...  \n",
       "4   DAACCgACGKygYwgAJxAKAAMYrKBjB_-x4AgABAAAAAILAA...  \n",
       "5   DAACCgACGKygYwgAJxAKAAMYrKBjB_-x4AgABAAAAAILAA...  \n",
       "6   DAACCgACGKygYwgAJxAKAAMYrKBjB_-x4AgABAAAAAILAA...  \n",
       "7   DAACCgACGKygYwgAJxAKAAMYrKBjB_-x4AgABAAAAAILAA...  \n",
       "8   DAACCgACGKygYwgAJxAKAAMYrKBjB_-x4AgABAAAAAILAA...  \n",
       "9   DAACCgACGKygYwgAJxAKAAMYrKBjB_-x4AgABAAAAAILAA...  \n",
       "10  DAACCgACGKygYwgAJxAKAAMYrKBjB_-x4AgABAAAAAILAA...  \n",
       "11  DAACCgACGKygYwgAJxAKAAMYrKBjB_-x4AgABAAAAAILAA...  \n",
       "12  DAACCgACGKygYwgAJxAKAAMYrKBjB_-x4AgABAAAAAILAA...  \n",
       "13  DAACCgACGKygYwgAJxAKAAMYrKBjB_-x4AgABAAAAAILAA...  \n",
       "14  DAACCgACGKygYwgAJxAKAAMYrKBjB_-x4AgABAAAAAILAA...  \n",
       "15  DAACCgACGKygYwgAJxAKAAMYrKBjB_-x4AgABAAAAAILAA...  \n",
       "16  DAACCgACGKygYwgAJxAKAAMYrKBjB_-x4AgABAAAAAILAA...  \n",
       "17  DAACCgACGKygYwgAJxAKAAMYrKBjB_-x4AgABAAAAAILAA...  \n",
       "18  DAACCgACGKygYwgAJxAKAAMYrKBjB_-x4AgABAAAAAILAA...  \n",
       "19  DAACCgACGKygYwgAJxAKAAMYrKBjB_-x4AgABAAAAAILAA...  "
      ]
     },
     "execution_count": 28,
     "metadata": {},
     "output_type": "execute_result"
    }
   ],
   "source": [
    "df"
   ]
  },
  {
   "cell_type": "code",
   "execution_count": 29,
   "metadata": {},
   "outputs": [],
   "source": [
    "df.to_csv('Data.csv')"
   ]
  },
  {
   "cell_type": "code",
   "execution_count": 31,
   "metadata": {},
   "outputs": [],
   "source": [
    "tweets=[]"
   ]
  },
  {
   "cell_type": "code",
   "execution_count": 32,
   "metadata": {},
   "outputs": [],
   "source": [
    "for i in range(17):\n",
    "    d=df.timeline[i]\n",
    "    txt=d.get(\"text\")\n",
    "    tweets.append(txt)"
   ]
  },
  {
   "cell_type": "code",
   "execution_count": 35,
   "metadata": {},
   "outputs": [],
   "source": [
    "def remove_special_characters(text):\n",
    "    pattern = r'[\\W_]+|\\n|\\t'\n",
    "    cleaned_text = re.sub(pattern, ' ', text)\n",
    "    return cleaned_text"
   ]
  },
  {
   "cell_type": "code",
   "execution_count": 36,
   "metadata": {},
   "outputs": [],
   "source": [
    "cleaned_tweets=[]\n",
    "for i in tweets:\n",
    "    cleaned=remove_special_characters(i)\n",
    "    cleaned_tweets.append(cleaned)"
   ]
  },
  {
   "cell_type": "code",
   "execution_count": 37,
   "metadata": {},
   "outputs": [
    {
     "data": {
      "text/plain": [
       "[' btc Maybe one more sweep then send hopefully Otherwise it s over https t co IQDAWfyfnr',\n",
       " 'Anybody have recent experience working with the X Twitter API ',\n",
       " ' Hong Kong likely to approve Spot BTC ETFs next week Reuters https t co mrR5wA9TXp',\n",
       " 'You re gonna win 80m and give me 79m Say a louder Amen Rt Cc ImoPunter https t co eqtymOkQLk',\n",
       " 'Whats good fam Which coins are in your radar at the moment CRYPTO BNB ETH BTC',\n",
       " ' Bitcoin Friendly reminder that BTC reclaimed the Fibonacci Ratio 3 line 4 236 on the monthly chart In every previous cycle this led to a parabolic curve The structure is always the same this time it only happens BEFORE the halving https t co RjFEBuZ91y',\n",
       " ' btc 4 hr looks very good Above 75k coming https t co lcIAbdlXHK',\n",
       " 'Core s native wrapped Bitcoin coreBTC and other Bitcoin related infrastructure improvements This will facilitate the growth of the Bitcoin DeFi BTCFi ecosystem with the Bitcoin network being the main beneficiary https t co jvsE2dygsK',\n",
       " 'GBTC sold another 2 250 BTC at a price of 150 million Total sales since the launch of the ETF have reached 303 000 BTC GBTC still has 316 000 bitcoins left in stock https t co NkIr8v2De9',\n",
       " 'Miners Are Geting P2P KYC Verified Automatically By SidraBank Are You P2P KYC Verified Yes or No Mine Real Airdrop in Satoshi App App Link https t co naOH5nMFKh Like Repost Comment SidraFamily iceNetwork Airdrop BTC https t co eu8NDCJ2Ct',\n",
       " 'Explore the decentralized world the perfect combination of the EVM compatibility of the Core Chain and the spirit of Satoshi Nakamoto is definitely worth your attention https t co yPSw7kH4ss',\n",
       " 'Everybody wants 1 0 Bitcoin but nobody wants to keep their head down shut the f ck up and stack sats ',\n",
       " 'Gm If you think the Halving in 9 days that makes bitcoin more scarce than gold is priced in you should hold on to your face because it is about to melt away ',\n",
       " 'Give me a 80 25mg Modanfinil s a playlist filled w sewerslvt songs a broken down iPhone 12 a 1 5 ETH deposit to MEXC and an internet connection and I ll run it to 6 figures by month end https t co 99TPxViN7a',\n",
       " 'If this is your 3rd cycle or more do NOT underestimate your gut feeling on conviction plays Your pattern recognition and ability to internalize potential outcomes is not to be underestimated Especially when you are locked in and concentrate mostly on one ecosystem It s not the end all be all and shouldn t be your only compass but just don t underestimate it ',\n",
       " 'Who knew 3518 could hold so much power https t co X3mg2IZFhr',\n",
       " ' BTC Market Update Not much to update prob play range till CPI Tomorrow https t co bUJH735av5']"
      ]
     },
     "execution_count": 37,
     "metadata": {},
     "output_type": "execute_result"
    }
   ],
   "source": [
    "cleaned_tweets"
   ]
  },
  {
   "cell_type": "code",
   "execution_count": 41,
   "metadata": {},
   "outputs": [
    {
     "name": "stderr",
     "output_type": "stream",
     "text": [
      "Some weights of the model checkpoint at cardiffnlp/twitter-roberta-base-sentiment-latest were not used when initializing RobertaForSequenceClassification: ['roberta.pooler.dense.bias', 'roberta.pooler.dense.weight']\n",
      "- This IS expected if you are initializing RobertaForSequenceClassification from the checkpoint of a model trained on another task or with another architecture (e.g. initializing a BertForSequenceClassification model from a BertForPreTraining model).\n",
      "- This IS NOT expected if you are initializing RobertaForSequenceClassification from the checkpoint of a model that you expect to be exactly identical (initializing a BertForSequenceClassification model from a BertForSequenceClassification model).\n"
     ]
    }
   ],
   "source": [
    "def preprocess(text):\n",
    "    new_text = []\n",
    "    for t in text.split(\" \"):\n",
    "        t = '@user' if t.startswith('@') and len(t) > 1 else t\n",
    "        t = 'http' if t.startswith('http') else t\n",
    "        new_text.append(t)\n",
    "    return \" \".join(new_text)\n",
    "MODEL = f\"cardiffnlp/twitter-roberta-base-sentiment-latest\"\n",
    "tokenizer = AutoTokenizer.from_pretrained(MODEL)\n",
    "config = AutoConfig.from_pretrained(MODEL)\n",
    "# PT\n",
    "model = AutoModelForSequenceClassification.from_pretrained(MODEL)\n",
    "#model.save_pretrained(MODEL)\n",
    "\n"
   ]
  },
  {
   "cell_type": "code",
   "execution_count": 42,
   "metadata": {},
   "outputs": [
    {
     "name": "stdout",
     "output_type": "stream",
     "text": [
      "1) neutral 0.8051\n",
      "2) positive 0.1888\n",
      "3) negative 0.0061\n"
     ]
    }
   ],
   "source": [
    "text = cleaned_tweets[2]\n",
    "text = preprocess(text)\n",
    "encoded_input = tokenizer(text, return_tensors='pt')\n",
    "output = model(**encoded_input)\n",
    "scores = output[0][0].detach().numpy()\n",
    "scores = softmax(scores)\n",
    "# # TF\n",
    "# model = TFAutoModelForSequenceClassification.from_pretrained(MODEL)\n",
    "# model.save_pretrained(MODEL)\n",
    "# text = \"Covid cases are increasing fast!\"\n",
    "# encoded_input = tokenizer(text, return_tensors='tf')\n",
    "# output = model(encoded_input)\n",
    "# scores = output[0][0].numpy()\n",
    "# scores = softmax(scores)\n",
    "# Print labels and scores\n",
    "ranking = np.argsort(scores)\n",
    "ranking = ranking[::-1]\n",
    "for i in range(scores.shape[0]):\n",
    "    l = config.id2label[ranking[i]]\n",
    "    s = scores[ranking[i]]\n",
    "    print(f\"{i+1}) {l} {np.round(float(s), 4)}\")"
   ]
  },
  {
   "cell_type": "code",
   "execution_count": 44,
   "metadata": {},
   "outputs": [
    {
     "name": "stdout",
     "output_type": "stream",
     "text": [
      "[0.00611285 0.80507857 0.18880852]\n"
     ]
    }
   ],
   "source": [
    "print(scores)"
   ]
  },
  {
   "cell_type": "code",
   "execution_count": null,
   "metadata": {},
   "outputs": [],
   "source": []
  }
 ],
 "metadata": {
  "kernelspec": {
   "display_name": "Python 3",
   "language": "python",
   "name": "python3"
  },
  "language_info": {
   "codemirror_mode": {
    "name": "ipython",
    "version": 3
   },
   "file_extension": ".py",
   "mimetype": "text/x-python",
   "name": "python",
   "nbconvert_exporter": "python",
   "pygments_lexer": "ipython3",
   "version": "3.11.3"
  }
 },
 "nbformat": 4,
 "nbformat_minor": 2
}

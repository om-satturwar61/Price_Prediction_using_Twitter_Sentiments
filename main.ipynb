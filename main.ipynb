{
 "cells": [
  {
   "cell_type": "code",
   "execution_count": 1,
   "metadata": {},
   "outputs": [],
   "source": [
    "from customtwitter import APIX\n",
    "# import app\n",
    "import pandas as pd\n",
    "import json\n",
    "import re\n",
    "from transformers import AutoModelForSequenceClassification\n",
    "from transformers import TFAutoModelForSequenceClassification\n",
    "from transformers import AutoTokenizer, AutoConfig\n",
    "import numpy as np\n",
    "from scipy.special import softmax\n",
    "import pretty_errors"
   ]
  },
  {
   "cell_type": "code",
   "execution_count": 2,
   "metadata": {},
   "outputs": [],
   "source": [
    "if __name__ == '__main__':\n",
    "    APIkey = \"05f9eec068mshcb0f7471140a0a8p1ca951jsn9d87189f621b\"\n",
    "    \n",
    "    inst = APIX(key = APIkey)\n",
    "\n",
    "    obj = inst.searchTweet(\"BTC\", search_type = \"top\",cursor=\"DAACCgACGKygYwgAJxAKAAMYrKBjB__Y8AgABAAAAAILAAUAAADQRW1QQzZ3QUFBZlEvZ0dKTjB2R3AvQUFBQUJFWXJKdEhLZGNBbnhpc1VtOXpGNkM0R0t5Y3ZzK1hrWWtZckpOS1Q5cUJweGlzaHAxSlY1R0dHS3llK2trWElNUVlySmZxejFlQXlSaXNtbTZyMW1EaUdLeUl1bnpXZ1VZWXJKSFlROWRoYmhpc25nK24xcUhNR0t4SDV1b1dJTDBZckpDSzZaYkJPaGlzZ0kwejJ1SDhHS3lGVmk0V0lFZ1lySjMxWWhjUUhCaXNrZTB0MTNINAgABgAAAAAIAAcAAAAADAAICgABGKxH5uoWIL0AAAA\")\n",
    "\n",
    "    # print(json.dumps(obj, indent = 4))\n",
    "    # with open(\"latest_tweet_replies.txt\", \"w+\") as f:\n",
    "    #     f.write(json.dumps(obj, indent = 4))\n",
    "    json_string = json.dumps(obj)"
   ]
  },
  {
   "cell_type": "code",
   "execution_count": 3,
   "metadata": {},
   "outputs": [],
   "source": [
    "df = pd.read_json(json_string)"
   ]
  },
  {
   "cell_type": "code",
   "execution_count": 4,
   "metadata": {},
   "outputs": [
    {
     "data": {
      "text/html": [
       "<div>\n",
       "<style scoped>\n",
       "    .dataframe tbody tr th:only-of-type {\n",
       "        vertical-align: middle;\n",
       "    }\n",
       "\n",
       "    .dataframe tbody tr th {\n",
       "        vertical-align: top;\n",
       "    }\n",
       "\n",
       "    .dataframe thead th {\n",
       "        text-align: right;\n",
       "    }\n",
       "</style>\n",
       "<table border=\"1\" class=\"dataframe\">\n",
       "  <thead>\n",
       "    <tr style=\"text-align: right;\">\n",
       "      <th></th>\n",
       "      <th>timeline</th>\n",
       "      <th>next_cursor</th>\n",
       "    </tr>\n",
       "  </thead>\n",
       "  <tbody>\n",
       "    <tr>\n",
       "      <th>0</th>\n",
       "      <td>{'type': 'tweet', 'tweet_id': '178025029670008...</td>\n",
       "      <td>DAACCgACGKygYwgAJxAKAAMYrKBjB_-x4AgABAAAAAILAA...</td>\n",
       "    </tr>\n",
       "    <tr>\n",
       "      <th>1</th>\n",
       "      <td>{'type': 'tweet', 'tweet_id': '178024775799268...</td>\n",
       "      <td>DAACCgACGKygYwgAJxAKAAMYrKBjB_-x4AgABAAAAAILAA...</td>\n",
       "    </tr>\n",
       "    <tr>\n",
       "      <th>2</th>\n",
       "      <td>{'type': 'tweet', 'tweet_id': '178024994999075...</td>\n",
       "      <td>DAACCgACGKygYwgAJxAKAAMYrKBjB_-x4AgABAAAAAILAA...</td>\n",
       "    </tr>\n",
       "    <tr>\n",
       "      <th>3</th>\n",
       "      <td>{'type': 'tweet', 'tweet_id': '178024527596325...</td>\n",
       "      <td>DAACCgACGKygYwgAJxAKAAMYrKBjB_-x4AgABAAAAAILAA...</td>\n",
       "    </tr>\n",
       "    <tr>\n",
       "      <th>4</th>\n",
       "      <td>{'type': 'tweet', 'tweet_id': '178023471952060...</td>\n",
       "      <td>DAACCgACGKygYwgAJxAKAAMYrKBjB_-x4AgABAAAAAILAA...</td>\n",
       "    </tr>\n",
       "    <tr>\n",
       "      <th>5</th>\n",
       "      <td>{'type': 'tweet', 'tweet_id': '178021959184063...</td>\n",
       "      <td>DAACCgACGKygYwgAJxAKAAMYrKBjB_-x4AgABAAAAAILAA...</td>\n",
       "    </tr>\n",
       "    <tr>\n",
       "      <th>6</th>\n",
       "      <td>{'type': 'tweet', 'tweet_id': '178024852252624...</td>\n",
       "      <td>DAACCgACGKygYwgAJxAKAAMYrKBjB_-x4AgABAAAAAILAA...</td>\n",
       "    </tr>\n",
       "    <tr>\n",
       "      <th>7</th>\n",
       "      <td>{'type': 'tweet', 'tweet_id': '178022081580959...</td>\n",
       "      <td>DAACCgACGKygYwgAJxAKAAMYrKBjB_-x4AgABAAAAAILAA...</td>\n",
       "    </tr>\n",
       "    <tr>\n",
       "      <th>8</th>\n",
       "      <td>{'type': 'tweet', 'tweet_id': '178021933173488...</td>\n",
       "      <td>DAACCgACGKygYwgAJxAKAAMYrKBjB_-x4AgABAAAAAILAA...</td>\n",
       "    </tr>\n",
       "    <tr>\n",
       "      <th>9</th>\n",
       "      <td>{'type': 'tweet', 'tweet_id': '178021621687275...</td>\n",
       "      <td>DAACCgACGKygYwgAJxAKAAMYrKBjB_-x4AgABAAAAAILAA...</td>\n",
       "    </tr>\n",
       "    <tr>\n",
       "      <th>10</th>\n",
       "      <td>{'type': 'tweet', 'tweet_id': '178024914801890...</td>\n",
       "      <td>DAACCgACGKygYwgAJxAKAAMYrKBjB_-x4AgABAAAAAILAA...</td>\n",
       "    </tr>\n",
       "    <tr>\n",
       "      <th>11</th>\n",
       "      <td>{'type': 'tweet', 'tweet_id': '178024760139830...</td>\n",
       "      <td>DAACCgACGKygYwgAJxAKAAMYrKBjB_-x4AgABAAAAAILAA...</td>\n",
       "    </tr>\n",
       "    <tr>\n",
       "      <th>12</th>\n",
       "      <td>{'type': 'tweet', 'tweet_id': '178024307320256...</td>\n",
       "      <td>DAACCgACGKygYwgAJxAKAAMYrKBjB_-x4AgABAAAAAILAA...</td>\n",
       "    </tr>\n",
       "    <tr>\n",
       "      <th>13</th>\n",
       "      <td>{'type': 'tweet', 'tweet_id': '178023404120090...</td>\n",
       "      <td>DAACCgACGKygYwgAJxAKAAMYrKBjB_-x4AgABAAAAAILAA...</td>\n",
       "    </tr>\n",
       "    <tr>\n",
       "      <th>14</th>\n",
       "      <td>{'type': 'tweet', 'tweet_id': '178024855510333...</td>\n",
       "      <td>DAACCgACGKygYwgAJxAKAAMYrKBjB_-x4AgABAAAAAILAA...</td>\n",
       "    </tr>\n",
       "    <tr>\n",
       "      <th>15</th>\n",
       "      <td>{'type': 'tweet', 'tweet_id': '178022379922230...</td>\n",
       "      <td>DAACCgACGKygYwgAJxAKAAMYrKBjB_-x4AgABAAAAAILAA...</td>\n",
       "    </tr>\n",
       "    <tr>\n",
       "      <th>16</th>\n",
       "      <td>{'type': 'tweet', 'tweet_id': '178024966398088...</td>\n",
       "      <td>DAACCgACGKygYwgAJxAKAAMYrKBjB_-x4AgABAAAAAILAA...</td>\n",
       "    </tr>\n",
       "    <tr>\n",
       "      <th>17</th>\n",
       "      <td>{'type': 'tweet', 'tweet_id': '178023587423345...</td>\n",
       "      <td>DAACCgACGKygYwgAJxAKAAMYrKBjB_-x4AgABAAAAAILAA...</td>\n",
       "    </tr>\n",
       "    <tr>\n",
       "      <th>18</th>\n",
       "      <td>{'type': 'tweet', 'tweet_id': '178021131601724...</td>\n",
       "      <td>DAACCgACGKygYwgAJxAKAAMYrKBjB_-x4AgABAAAAAILAA...</td>\n",
       "    </tr>\n",
       "    <tr>\n",
       "      <th>19</th>\n",
       "      <td>{'type': 'tweet', 'tweet_id': '178023404817180...</td>\n",
       "      <td>DAACCgACGKygYwgAJxAKAAMYrKBjB_-x4AgABAAAAAILAA...</td>\n",
       "    </tr>\n",
       "  </tbody>\n",
       "</table>\n",
       "</div>"
      ],
      "text/plain": [
       "                                             timeline  \\\n",
       "0   {'type': 'tweet', 'tweet_id': '178025029670008...   \n",
       "1   {'type': 'tweet', 'tweet_id': '178024775799268...   \n",
       "2   {'type': 'tweet', 'tweet_id': '178024994999075...   \n",
       "3   {'type': 'tweet', 'tweet_id': '178024527596325...   \n",
       "4   {'type': 'tweet', 'tweet_id': '178023471952060...   \n",
       "5   {'type': 'tweet', 'tweet_id': '178021959184063...   \n",
       "6   {'type': 'tweet', 'tweet_id': '178024852252624...   \n",
       "7   {'type': 'tweet', 'tweet_id': '178022081580959...   \n",
       "8   {'type': 'tweet', 'tweet_id': '178021933173488...   \n",
       "9   {'type': 'tweet', 'tweet_id': '178021621687275...   \n",
       "10  {'type': 'tweet', 'tweet_id': '178024914801890...   \n",
       "11  {'type': 'tweet', 'tweet_id': '178024760139830...   \n",
       "12  {'type': 'tweet', 'tweet_id': '178024307320256...   \n",
       "13  {'type': 'tweet', 'tweet_id': '178023404120090...   \n",
       "14  {'type': 'tweet', 'tweet_id': '178024855510333...   \n",
       "15  {'type': 'tweet', 'tweet_id': '178022379922230...   \n",
       "16  {'type': 'tweet', 'tweet_id': '178024966398088...   \n",
       "17  {'type': 'tweet', 'tweet_id': '178023587423345...   \n",
       "18  {'type': 'tweet', 'tweet_id': '178021131601724...   \n",
       "19  {'type': 'tweet', 'tweet_id': '178023404817180...   \n",
       "\n",
       "                                          next_cursor  \n",
       "0   DAACCgACGKygYwgAJxAKAAMYrKBjB_-x4AgABAAAAAILAA...  \n",
       "1   DAACCgACGKygYwgAJxAKAAMYrKBjB_-x4AgABAAAAAILAA...  \n",
       "2   DAACCgACGKygYwgAJxAKAAMYrKBjB_-x4AgABAAAAAILAA...  \n",
       "3   DAACCgACGKygYwgAJxAKAAMYrKBjB_-x4AgABAAAAAILAA...  \n",
       "4   DAACCgACGKygYwgAJxAKAAMYrKBjB_-x4AgABAAAAAILAA...  \n",
       "5   DAACCgACGKygYwgAJxAKAAMYrKBjB_-x4AgABAAAAAILAA...  \n",
       "6   DAACCgACGKygYwgAJxAKAAMYrKBjB_-x4AgABAAAAAILAA...  \n",
       "7   DAACCgACGKygYwgAJxAKAAMYrKBjB_-x4AgABAAAAAILAA...  \n",
       "8   DAACCgACGKygYwgAJxAKAAMYrKBjB_-x4AgABAAAAAILAA...  \n",
       "9   DAACCgACGKygYwgAJxAKAAMYrKBjB_-x4AgABAAAAAILAA...  \n",
       "10  DAACCgACGKygYwgAJxAKAAMYrKBjB_-x4AgABAAAAAILAA...  \n",
       "11  DAACCgACGKygYwgAJxAKAAMYrKBjB_-x4AgABAAAAAILAA...  \n",
       "12  DAACCgACGKygYwgAJxAKAAMYrKBjB_-x4AgABAAAAAILAA...  \n",
       "13  DAACCgACGKygYwgAJxAKAAMYrKBjB_-x4AgABAAAAAILAA...  \n",
       "14  DAACCgACGKygYwgAJxAKAAMYrKBjB_-x4AgABAAAAAILAA...  \n",
       "15  DAACCgACGKygYwgAJxAKAAMYrKBjB_-x4AgABAAAAAILAA...  \n",
       "16  DAACCgACGKygYwgAJxAKAAMYrKBjB_-x4AgABAAAAAILAA...  \n",
       "17  DAACCgACGKygYwgAJxAKAAMYrKBjB_-x4AgABAAAAAILAA...  \n",
       "18  DAACCgACGKygYwgAJxAKAAMYrKBjB_-x4AgABAAAAAILAA...  \n",
       "19  DAACCgACGKygYwgAJxAKAAMYrKBjB_-x4AgABAAAAAILAA...  "
      ]
     },
     "execution_count": 4,
     "metadata": {},
     "output_type": "execute_result"
    }
   ],
   "source": [
    "df"
   ]
  },
  {
   "cell_type": "code",
   "execution_count": 5,
   "metadata": {},
   "outputs": [],
   "source": [
    "df.to_csv('Data.csv')"
   ]
  },
  {
   "cell_type": "code",
   "execution_count": 6,
   "metadata": {},
   "outputs": [],
   "source": [
    "tweets=[]"
   ]
  },
  {
   "cell_type": "code",
   "execution_count": 7,
   "metadata": {},
   "outputs": [],
   "source": [
    "for i in range(17):\n",
    "    d=df.timeline[i]\n",
    "    txt=d.get(\"text\")\n",
    "    tweets.append(txt)"
   ]
  },
  {
   "cell_type": "code",
   "execution_count": 8,
   "metadata": {},
   "outputs": [],
   "source": [
    "def remove_special_characters(text):\n",
    "    pattern = r'[\\W_]+|\\n|\\t'\n",
    "    cleaned_text = re.sub(pattern, ' ', text)\n",
    "    return cleaned_text"
   ]
  },
  {
   "cell_type": "code",
   "execution_count": 9,
   "metadata": {},
   "outputs": [],
   "source": [
    "cleaned_tweets=[]\n",
    "for i in tweets:\n",
    "    cleaned=remove_special_characters(i)\n",
    "    cleaned_tweets.append(cleaned)"
   ]
  },
  {
   "cell_type": "code",
   "execution_count": 10,
   "metadata": {},
   "outputs": [
    {
     "data": {
      "text/plain": [
       "['JUST IN 30 fund managers have declared ownership of BlackRock s Bitcoin ETF Bloomberg s EricBalchunas Just getting started https t co 8lVlzhzpG5',\n",
       " 'If BTC decides to stop dying I think the hat will be back on https t co L1R2IkZKAB',\n",
       " 'Stream in 30min Macro Plans moving forward Previous market nukes history lesson Medium timeframe view BTC flows Shitcoins See you soon https t co Yd6ePd4dzB',\n",
       " ' BTC Look Closely Too hard to ignore https t co u7J3nyBdF2',\n",
       " 'Mint is live https t co 1ixso4yvnN https t co 1ghMdKbDNR',\n",
       " 'The Bitdogs are coming The Bitdogs are hunting https t co tnkXH19JeW',\n",
       " 'HOW LONG IT TOOK BTC TO EXPLODE FROM THE LAST 3 HALVING UP UNTIL NOW IN 2024 AS U CAN CLEARLY SEE THE TIME OF THE PARABOLIC BLOW OUT GOT CUT DRASTICALLY AFTER EACH HALVING WHAT YOU THINK IS GOING TO HAPPEN NOW IN 2024 BEFORE BTC TOKENIZATION dek67 btc lastgasp https t co OlHQzge2sf',\n",
       " 'BTC just got hit with an onslaught of WW3 headlines Yet is sitting at 63k w shorts piling in and a fat spot premium The wall of worry is about to be climbed Strap in https t co E0NJkVvFmP',\n",
       " ' BTC to 1 million dollar in 2025 2026 https t co SXT4xucVbB',\n",
       " 'Fellow Wizards We have a big announcement for you To thank everyone for their support and participation in our presale we are rewarding our community with an airdrop happening on Merlin Starter by the end of the week Like this post retweet and drop a MAGE meme in the comments along with your Merlin EVM address More details to be announced soon ',\n",
       " 'Joining Forces With HiKESHi BTC Through the manga art style of Yuko Osada Shiori Experience and the inscription process of ordinals on BTC They are bringing true Japanese culture to the blockchain Ready To Join Our GA https t co fP0YCB0QQb',\n",
       " ' Bitcoin is trading at 0 06M the 4th halving is in 3 days the block subsidy is dropping from 6 25 to 3 125 BTC and bitcoin is still trading below its all time high in 2021 We re going so much higher ',\n",
       " 'May 11 2020 was the last btc halving It was the low after a 19 sell off We are having same PA now Study every halving ever https t co duAcDJWPLy',\n",
       " 'On Day 170 I ve officially COMPLETED my 1000MilesToMakeIt challenge I appreciate the support along the way w 72hrs to go until the halving I m damn proud to finish this goal I ve always had a very odd way of processing pressure stress exhaustion etc When things get hard I ve always had the inclination to push myself twice as hard in order to have the mental fortitude strength willpower to face anything that came my way I ve also always believed that if you can hold yourself accountable for the things no one asks or expects of you ppl in your life never have to worry when the time comes that you can step up push forward regardless of the steepness of that task This industry space can be draining relentless but I ve found that like any obstacle that life throws in your way w enough heart intention grit determination you have the ability to pick up momentum run right through it Beating the drums on the road we all travel HARD WORK NO PAIN NO FEAR NEVER GIVE UP ',\n",
       " 'BYBIT RESEARCH With only 2 million BTC left if we assume a daily inflow of 500 million to Bitcoin Spot ETFs the equivalent of around 7 142 bitcoins will leave exchange reserves daily suggesting that it will only take nine months to consume all of the remaining reserves ',\n",
       " ' Swiss newspaper says the number of Bitcoin will double after the halving So early https t co oZ4aLkwL82',\n",
       " 'Tuesday Vibing Dubai Flooding BTC halving in 3 days Let s talk about it https t co Lnzb5ZxbS7']"
      ]
     },
     "execution_count": 10,
     "metadata": {},
     "output_type": "execute_result"
    }
   ],
   "source": [
    "cleaned_tweets"
   ]
  },
  {
   "cell_type": "code",
   "execution_count": 11,
   "metadata": {},
   "outputs": [
    {
     "name": "stderr",
     "output_type": "stream",
     "text": [
      "c:\\Users\\sonar\\AppData\\Local\\Programs\\Python\\Python311\\Lib\\site-packages\\torch\\_utils.py:776: UserWarning: TypedStorage is deprecated. It will be removed in the future and UntypedStorage will be the only storage class. This should only matter to you if you are using storages directly.  To access UntypedStorage directly, use tensor.untyped_storage() instead of tensor.storage()\n",
      "  return self.fget.__get__(instance, owner)()\n",
      "Some weights of the model checkpoint at cardiffnlp/twitter-roberta-base-sentiment-latest were not used when initializing RobertaForSequenceClassification: ['roberta.pooler.dense.bias', 'roberta.pooler.dense.weight']\n",
      "- This IS expected if you are initializing RobertaForSequenceClassification from the checkpoint of a model trained on another task or with another architecture (e.g. initializing a BertForSequenceClassification model from a BertForPreTraining model).\n",
      "- This IS NOT expected if you are initializing RobertaForSequenceClassification from the checkpoint of a model that you expect to be exactly identical (initializing a BertForSequenceClassification model from a BertForSequenceClassification model).\n"
     ]
    }
   ],
   "source": [
    "def preprocess(text):\n",
    "    new_text = []\n",
    "    for t in text.split(\" \"):\n",
    "        t = '@user' if t.startswith('@') and len(t) > 1 else t\n",
    "        t = 'http' if t.startswith('http') else t\n",
    "        new_text.append(t)\n",
    "    return \" \".join(new_text)\n",
    "MODEL = f\"cardiffnlp/twitter-roberta-base-sentiment-latest\"\n",
    "tokenizer = AutoTokenizer.from_pretrained(MODEL)\n",
    "config = AutoConfig.from_pretrained(MODEL)\n",
    "# PT\n",
    "model = AutoModelForSequenceClassification.from_pretrained(MODEL)\n",
    "#model.save_pretrained(MODEL)\n",
    "\n"
   ]
  },
  {
   "cell_type": "code",
   "execution_count": 34,
   "metadata": {},
   "outputs": [
    {
     "name": "stdout",
     "output_type": "stream",
     "text": [
      "1) neutral 0.8609\n",
      "2) positive 0.1277\n",
      "3) negative 0.0114\n"
     ]
    }
   ],
   "source": [
    "text = cleaned_tweets[2]\n",
    "text = preprocess(text)\n",
    "encoded_input = tokenizer(text, return_tensors='pt')\n",
    "output = model(**encoded_input)\n",
    "scores = output[0][0].detach().numpy()\n",
    "scores = softmax(scores)\n",
    "# # TF\n",
    "# model = TFAutoModelForSequenceClassification.from_pretrained(MODEL)\n",
    "# model.save_pretrained(MODEL)\n",
    "# text = \"Covid cases are increasing fast!\"\n",
    "# encoded_input = tokenizer(text, return_tensors='tf')\n",
    "# output = model(encoded_input)\n",
    "# scores = output[0][0].numpy()\n",
    "# scores = softmax(scores)\n",
    "# Print labels and scores\n",
    "ranking = np.argsort(scores)\n",
    "ranking = ranking[::-1]\n",
    "for i in range(scores.shape[0]):\n",
    "    l = config.id2label[ranking[i]]\n",
    "    s = scores[ranking[i]]\n",
    "    print(f\"{i+1}) {l} {np.round(float(s), 4)}\")"
   ]
  },
  {
   "cell_type": "code",
   "execution_count": 35,
   "metadata": {},
   "outputs": [
    {
     "name": "stdout",
     "output_type": "stream",
     "text": [
      "[0.0113966  0.86086655 0.12773685]\n"
     ]
    }
   ],
   "source": [
    "print(scores)"
   ]
  },
  {
   "cell_type": "code",
   "execution_count": null,
   "metadata": {},
   "outputs": [],
   "source": []
  }
 ],
 "metadata": {
  "kernelspec": {
   "display_name": "Python 3",
   "language": "python",
   "name": "python3"
  },
  "language_info": {
   "codemirror_mode": {
    "name": "ipython",
    "version": 3
   },
   "file_extension": ".py",
   "mimetype": "text/x-python",
   "name": "python",
   "nbconvert_exporter": "python",
   "pygments_lexer": "ipython3",
   "version": "3.11.3"
  }
 },
 "nbformat": 4,
 "nbformat_minor": 2
}
